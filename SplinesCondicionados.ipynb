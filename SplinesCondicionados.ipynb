{
 "cells": [
  {
   "cell_type": "code",
   "execution_count": 3,
   "id": "fcf21fb9",
   "metadata": {},
   "outputs": [],
   "source": [
    "import sympy as sym\n",
    "from IPython.display import display\n",
    "\n",
    "\n",
    "# ###################################################################\n",
    "def cubic_spline_clamped(\n",
    "    xs: list[float], ys: list[float], B0: float, B1: float\n",
    ") -> list[sym.Symbol]:\n",
    "    \"\"\"\n",
    "    Cubic spline interpolation ``S``. Every two points are interpolated by a cubic polynomial\n",
    "    ``S_j`` of the form ``S_j(x) = a_j + b_j(x - x_j) + c_j(x - x_j)^2 + d_j(x - x_j)^3.``\n",
    "\n",
    "    xs must be different  but not necessarily ordered nor equally spaced.\n",
    "\n",
    "    ## Parameters\n",
    "    - xs, ys: points to be interpolated\n",
    "    - B0, B1: derivatives at the first and last points\n",
    "\n",
    "    ## Return\n",
    "    - List of symbolic expressions for the cubic spline interpolation.\n",
    "    \"\"\"\n",
    "\n",
    "    points = sorted(zip(xs, ys), key=lambda x: x[0])  # sort points by x\n",
    "    xs = [x for x, _ in points]\n",
    "    ys = [y for _, y in points]\n",
    "    n = len(points) - 1  # number of splines\n",
    "    h = [xs[i + 1] - xs[i] for i in range(n)]  # distances between  contiguous xs\n",
    "\n",
    "    alpha = [0] * (n + 1)  # prealloc\n",
    "    alpha[0] = 3 / h[0] * (ys[1] - ys[0]) - 3 * B0\n",
    "    alpha[-1] = 3 * B1 - 3 / h[n - 1] * (ys[n] - ys[n - 1])\n",
    "\n",
    "    for i in range(1, n):\n",
    "        alpha[i] = 3 / h[i] * (ys[i + 1] - ys[i]) - 3 / h[i - 1] * (ys[i] - ys[i - 1])\n",
    "\n",
    "    l = [2 * h[0]]\n",
    "    u = [0.5]\n",
    "    z = [alpha[0] / l[0]]\n",
    "\n",
    "    for i in range(1, n):\n",
    "        l += [2 * (xs[i + 1] - xs[i - 1]) - h[i - 1] * u[i - 1]]\n",
    "        u += [h[i] / l[i]]\n",
    "        z += [(alpha[i] - h[i - 1] * z[i - 1]) / l[i]]\n",
    "\n",
    "    l.append(h[n - 1] * (2 - u[n - 1]))\n",
    "    z.append((alpha[n] - h[n - 1] * z[n - 1]) / l[n])\n",
    "    c = [0] * (n + 1)  # prealloc\n",
    "    c[-1] = z[-1]\n",
    "\n",
    "    x = sym.Symbol(\"x\")\n",
    "    splines = []\n",
    "    for j in range(n - 1, -1, -1):\n",
    "        c[j] = z[j] - u[j] * c[j + 1]\n",
    "        b = (ys[j + 1] - ys[j]) / h[j] - h[j] * (c[j + 1] + 2 * c[j]) / 3\n",
    "        d = (c[j + 1] - c[j]) / (3 * h[j])\n",
    "        a = ys[j]\n",
    "        print(j, a, b, c[j], d)\n",
    "        S = a + b * (x - xs[j]) + c[j] * (x - xs[j]) ** 2 + d * (x - xs[j]) ** 3\n",
    "\n",
    "        splines.append(S)\n",
    "    splines.reverse()\n",
    "    return splines"
   ]
  },
  {
   "cell_type": "code",
   "execution_count": 4,
   "id": "9b14b140",
   "metadata": {},
   "outputs": [
    {
     "name": "stdout",
     "output_type": "stream",
     "text": [
      "2 5 -3.0 -13.0 13.0\n",
      "1 1 5.0 5.0 -6.0\n",
      "0 -1 1.0 -1.0 2.0\n"
     ]
    },
    {
     "data": {
      "text/plain": [
       "[2.0*x**3 - 1.0*x**2 + 1.0*x - 1,\n",
       " 5.0*x - 6.0*(x - 1)**3 + 5.0*(x - 1)**2 - 4.0,\n",
       " -3.0*x + 13.0*(x - 2)**3 - 13.0*(x - 2)**2 + 11.0]"
      ]
     },
     "execution_count": 4,
     "metadata": {},
     "output_type": "execute_result"
    }
   ],
   "source": [
    "cubic_spline_clamped(\n",
    "    xs=[0, 1, 2, 3],\n",
    "    ys=[-1, 1, 5, 2],\n",
    "    B0=1,\n",
    "    B1=10,\n",
    ")"
   ]
  }
 ],
 "metadata": {
  "kernelspec": {
   "display_name": "base",
   "language": "python",
   "name": "python3"
  },
  "language_info": {
   "codemirror_mode": {
    "name": "ipython",
    "version": 3
   },
   "file_extension": ".py",
   "mimetype": "text/x-python",
   "name": "python",
   "nbconvert_exporter": "python",
   "pygments_lexer": "ipython3",
   "version": "3.12.7"
  }
 },
 "nbformat": 4,
 "nbformat_minor": 5
}
